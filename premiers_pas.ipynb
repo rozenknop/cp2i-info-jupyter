{
 "cells": [
  {
   "cell_type": "markdown",
   "metadata": {},
   "source": [
    "# Eléments de programmation en C\n",
    "## Expressions"
   ]
  },
  {
   "cell_type": "markdown",
   "metadata": {},
   "source": [
    "### __constantes__\n",
    "```c\n",
    "    1\n",
    "    2.3\n",
    "    \"toto\"\n",
    "```"
   ]
  },
  {
   "cell_type": "code",
   "execution_count": null,
   "metadata": {
    "collapsed": true,
    "jupyter": {
     "outputs_hidden": true
    }
   },
   "outputs": [],
   "source": []
  },
  {
   "cell_type": "markdown",
   "metadata": {},
   "source": [
    "### __opération arithmétique__ :\n",
    "```c\n",
    "1+1\n",
    "3*2+1\n",
    "3*(2+1)\n",
    "1/2\n",
    "(double)1/2\n",
    "(double)(1/2)\n",
    "(2.0/2) * (3*2+1)\n",
    "```"
   ]
  },
  {
   "cell_type": "code",
   "execution_count": null,
   "metadata": {
    "collapsed": true,
    "jupyter": {
     "outputs_hidden": true
    }
   },
   "outputs": [],
   "source": []
  },
  {
   "cell_type": "markdown",
   "metadata": {},
   "source": [
    "### __opération logique__ :\n",
    "```c\n",
    "1==1\n",
    "2>3\n",
    "1==1 || 2>3     // ou logique : ||\n",
    "1==1 && 2>3     // et logique : &&\n",
    "1==1 && !(2>3)  // négation   : !\n",
    "```\n",
    "En réalité le résultat est un entier : 1 pour vrai, 0 pour faux.\n",
    "```c\n",
    "(2<3) + 10\n",
    "(2>3) + 10\n",
    "```\n",
    "Et toute valeur non nulle est considérée comme vrai dans une opération logique.\n",
    "```c\n",
    "18 && 16\n",
    "(2<3) && 0\n",
    "```"
   ]
  },
  {
   "cell_type": "code",
   "execution_count": null,
   "metadata": {
    "collapsed": true,
    "jupyter": {
     "outputs_hidden": true
    }
   },
   "outputs": [],
   "source": []
  },
  {
   "cell_type": "markdown",
   "metadata": {},
   "source": [
    "### __variables__\n",
    "\n",
    "Pour stocker des résultats intermédiaires de calculs, utilisation de la mémoire (RAM).\n",
    "En C, une variable est un identificateur qui fait référence à une case mémoire. Le compilateur transforme les variable en adresses (relativement à SP, le pointeur de pile).\n",
    "\n",
    "Un identificateur en C est une suite de caractères alphanumériques latins (sans accents) (+ le caractère « _ »), qui ne peut pas commencer par un chiffre.\n",
    "\n",
    "* __affectation__\n",
    "```c\n",
    "x = 2.3/3.2 ;\n",
    "y = 3*2+1 ;\n",
    "```\n",
    "* __utilisation dans une expression__\n",
    "```c\n",
    "x * y\n",
    "```\n",
    "* __réaffectation__\n",
    "  \n",
    "  On peut écraser le contenu d'une variable par une nouvelle affectation :\n",
    "```c\n",
    "x = x * y ;   \n",
    "```"
   ]
  },
  {
   "cell_type": "code",
   "execution_count": null,
   "metadata": {
    "collapsed": true,
    "jupyter": {
     "outputs_hidden": true
    }
   },
   "outputs": [],
   "source": []
  },
  {
   "cell_type": "markdown",
   "metadata": {},
   "source": [
    "   * __déclaration__\n",
    "      Les variables doivent être déclarées avant d'être affectées et utilisées.\n",
    "      Les variables sont typées lors de leur déclaration, de la forme :\n",
    "      ```c\n",
    "type identifiant ;\n",
    "```\n",
    "      On peut déclarer plusieurs variables du même type en les séparant par des virgules :\n",
    "      ```c\n",
    "type id1, id2, id3;\n",
    "```"
   ]
  },
  {
   "cell_type": "code",
   "execution_count": null,
   "metadata": {
    "collapsed": true,
    "jupyter": {
     "outputs_hidden": true
    }
   },
   "outputs": [],
   "source": [
    "double x, y;\n",
    "x = 2.3/3.2 ;\n",
    "x"
   ]
  },
  {
   "cell_type": "code",
   "execution_count": null,
   "metadata": {
    "collapsed": true,
    "jupyter": {
     "outputs_hidden": true
    }
   },
   "outputs": [],
   "source": [
    "y  = 3*2+1 ;\n",
    "y"
   ]
  },
  {
   "cell_type": "code",
   "execution_count": null,
   "metadata": {},
   "outputs": [],
   "source": [
    "x = y + x;\n",
    "x"
   ]
  },
  {
   "cell_type": "markdown",
   "metadata": {},
   "source": [
    "   1. __Le typage indique comment les valeurs sont stockées en mémoire__ : nombre d'octets occupés et codage en binaire.\n",
    "\n",
    "   La fonction suivante affiche la représentation binaire de 4 octets en mémoire :"
   ]
  },
  {
   "cell_type": "code",
   "execution_count": null,
   "metadata": {},
   "outputs": [],
   "source": [
    "void print_bin(void*a){int n=*(uint32_t*)a;for(int i=31;i>=0;--i)printf(\"%d\",(n>>i)&1);}"
   ]
  },
  {
   "cell_type": "markdown",
   "metadata": {},
   "source": [
    "Appelons-la pour afficher la représentation en mémoire de deux variables\n",
    "contenant la valeur 1, l'une de type _float_, l'autre de type _int_ : "
   ]
  },
  {
   "cell_type": "code",
   "execution_count": null,
   "metadata": {},
   "outputs": [],
   "source": [
    "{\n",
    "    int i=1;\n",
    "    printf(\"représentation binaire de i=%d :\\n\",i); print_bin(&i); printf(\"\\n\");\n",
    "    float f=1;\n",
    "    printf(\"représentation binaire de f=%f :\\n\",f); print_bin(&f); printf(\"\\n\");\n",
    "}"
   ]
  },
  {
   "cell_type": "markdown",
   "metadata": {},
   "source": [
    "2. __le typage indique au compilateur comment traduire les opérations dans les expressions où les variables apparaissent__\n",
    "   \n",
    "   Exemple avec la division (entière ou flottante)"
   ]
  },
  {
   "cell_type": "code",
   "execution_count": null,
   "metadata": {
    "collapsed": true,
    "jupyter": {
     "outputs_hidden": true
    }
   },
   "outputs": [],
   "source": [
    "x=1; y=2;\n",
    "x/y"
   ]
  },
  {
   "cell_type": "code",
   "execution_count": null,
   "metadata": {
    "collapsed": true,
    "jupyter": {
     "outputs_hidden": true
    }
   },
   "outputs": [],
   "source": [
    "int i=1, j=2;\n",
    "i/j"
   ]
  },
  {
   "cell_type": "markdown",
   "metadata": {},
   "source": [
    "### appel de fonction\n",
    "```c\n",
    "sqrt(2)\n",
    "abs(10-x)*x\n",
    "printf(\"toto\")\n",
    "```"
   ]
  },
  {
   "cell_type": "markdown",
   "metadata": {},
   "source": [
    "## Structures de contrôle\n",
    "### blocs\n",
    "* Suite d'instructions s'exécutant les unes à la suite des autres.\n",
    "* Délimités par des accolades\n",
    "* La portée (statique) d'une variable est limitée au bloc dans lequel elle est déclarée."
   ]
  },
  {
   "cell_type": "code",
   "execution_count": null,
   "metadata": {
    "collapsed": true,
    "jupyter": {
     "outputs_hidden": true
    }
   },
   "outputs": [],
   "source": [
    "{\n",
    "    int toto = 0;\n",
    "    printf(\"%d\\n\",toto);\n",
    "}"
   ]
  },
  {
   "cell_type": "code",
   "execution_count": null,
   "metadata": {
    "collapsed": true,
    "jupyter": {
     "outputs_hidden": true
    }
   },
   "outputs": [],
   "source": [
    "{\n",
    "    int toto = 0;\n",
    "}\n",
    "printf(\"%d\\n\",toto);"
   ]
  },
  {
   "cell_type": "markdown",
   "metadata": {},
   "source": [
    "* Cas de blocs imbriqués : plusieurs variables peuvent avoir le même identifiant.\n",
    "  \n",
    "  Dans l'exemple suivant, on ne peut plus accéder à la variable toto du bloc 1 quand on est dans le bloc imbriqué"
   ]
  },
  {
   "cell_type": "code",
   "execution_count": null,
   "metadata": {
    "collapsed": true,
    "jupyter": {
     "outputs_hidden": true
    }
   },
   "outputs": [],
   "source": [
    "{ // début du bloc 1\n",
    "    int toto = 0;\n",
    "    int pepe = 0;\n",
    "    { // début du bloc imbriqué\n",
    "        int toto = 100;\n",
    "        printf(\"toto a %d ans, pepe a %d ans\\n\", toto, pepe);\n",
    "        pepe = toto;\n",
    "    } // fin du bloc imbriqué\n",
    "    printf(\"toto a %d ans, pepe a %d ans\\n\", toto, pepe);\n",
    "} // fin du bloc 1"
   ]
  },
  {
   "cell_type": "markdown",
   "metadata": {},
   "source": [
    "\n",
    "### répétitions (boucles) : while, for\n",
    "\n",
    "Pour calculer « $1.0^{1000}$ » (l'opérateur puissance n'existe pas en C), on pourrait écrire : 1.01 * 1.01 * 1.01 * … mille fois.\n",
    "\n",
    "Ou bien :\n",
    "```c\n",
    "double x = 1;\n",
    "int i = 0;\n",
    "while (i<1000)\n",
    " {\n",
    "    x = x * 1.01 ;\n",
    "    i = i + 1;\n",
    " }\n",
    "```\n",
    "Ou bien :\n",
    "```c\n",
    "double x = 1;\n",
    "int i;\n",
    "for (i=0; i<1000; i=i+1)\n",
    " {\n",
    "     x = x * 1.01;\n",
    " }\n",
    "```\n",
    "\n",
    "Note : la séquence suivante provoque une « boucle infinie » (absence d'accolades => seule la variable x est modifiée à chaque passage dans la boucle) :\n",
    "\n",
    "```c\n",
    "double x = 1;\n",
    "int i = 0;\n",
    "while (i<1000)\n",
    "    x = x * 1.01 ;\n",
    "    i = i + 1;\n",
    "```\n",
    "La ligne « i = i + 1; » ne se trouve pas dans la boucle.                                                            "
   ]
  },
  {
   "cell_type": "code",
   "execution_count": null,
   "metadata": {
    "collapsed": true,
    "jupyter": {
     "outputs_hidden": true
    }
   },
   "outputs": [],
   "source": [
    "double x = 1;\n",
    "int i = 0;\n",
    "while (i<1000)\n",
    " {\n",
    "    x = x * 1.01 ;\n",
    "    i = i + 1;\n",
    " }"
   ]
  },
  {
   "cell_type": "code",
   "execution_count": null,
   "metadata": {
    "collapsed": true,
    "jupyter": {
     "outputs_hidden": true
    }
   },
   "outputs": [],
   "source": [
    "x"
   ]
  },
  {
   "cell_type": "code",
   "execution_count": null,
   "metadata": {
    "collapsed": true,
    "jupyter": {
     "outputs_hidden": true
    }
   },
   "outputs": [],
   "source": [
    "double x = 1;\n",
    "int i;\n",
    "for (i=0; i<1000; i=i+1)\n",
    " {\n",
    "     x = x * 1.01;\n",
    " }"
   ]
  },
  {
   "cell_type": "code",
   "execution_count": null,
   "metadata": {
    "collapsed": true,
    "jupyter": {
     "outputs_hidden": true
    }
   },
   "outputs": [],
   "source": [
    "x"
   ]
  },
  {
   "cell_type": "markdown",
   "metadata": {},
   "source": [
    "### instructions conditionnelles : « if » ou « if … else »"
   ]
  },
  {
   "cell_type": "code",
   "execution_count": null,
   "metadata": {
    "collapsed": true,
    "jupyter": {
     "outputs_hidden": true
    }
   },
   "outputs": [],
   "source": [
    "x=3; // essayer aussi avec -3\n",
    "\n",
    "// forme sans alternative\n",
    "if (x<0) {\n",
    "    printf(\"sans else : premier printf\\n\");\n",
    "}\n",
    "printf(\"sans else : second printf\\n\");\n",
    "\n",
    "// forme avec alternative\n",
    "if (x<0) {\n",
    "    printf(\"avec else : premier printf\\n\");\n",
    "}\n",
    "else {\n",
    "    printf(\"avec else : second printf\\n\");\n",
    "}"
   ]
  },
  {
   "cell_type": "markdown",
   "metadata": {},
   "source": [
    "### fonctions\n",
    "Quand on utilise une fonction dans une expression, le programme va exécuter un bloc d'instructions situé dans la __définition de la fonction__, puis utiliser la valeur __retournée__ par ce bloc d'instructions dans l'expression.\n",
    "\n",
    "Définir une fonction pour pouvoir l'_appeler_ dans une expression est donc une façon de structurer un programme.\n",
    "\n",
    "La définition d'une fonction commence toujours par __déclarer__ (dans cet ordre) :\n",
    "1. le __type de la valeur qu'elle retourne__\n",
    "2. son __identifiant__ (mêmes règles que pour les variables)\n",
    "3. entre parenthèses la __liste des déclarations de ses paramètres__\n",
    "   * chaque déclaration de paramètre suit le format d'une déclaration de variable (type identifiant)\n",
    "   * les paramètres sont séparés par des virgules\n",
    "\n",
    "Le bloc d'instruction qui suit contient le code de la fonction.\n",
    "Les paramètres de la fonction sont des variables dont la portée est limitée à ce bloc d'instruction.\n",
    "L'instruction __return__ permet de retourner la valeur calculée par la fonction.\n",
    "\n",
    "Exemple : définition d'une fonction _plus1_, qui ajoute un à son argument :"
   ]
  },
  {
   "cell_type": "code",
   "execution_count": null,
   "metadata": {
    "collapsed": true,
    "jupyter": {
     "outputs_hidden": true
    }
   },
   "outputs": [],
   "source": [
    "double plus1(double x)\n",
    "{\n",
    "    return x + 1;\n",
    "}"
   ]
  },
  {
   "cell_type": "code",
   "execution_count": null,
   "metadata": {
    "collapsed": true,
    "jupyter": {
     "outputs_hidden": true
    }
   },
   "outputs": [],
   "source": [
    "double x = 3;\n",
    "double y = plus1(x);"
   ]
  },
  {
   "cell_type": "code",
   "execution_count": null,
   "metadata": {
    "collapsed": true,
    "jupyter": {
     "outputs_hidden": true
    }
   },
   "outputs": [],
   "source": [
    "x"
   ]
  },
  {
   "cell_type": "code",
   "execution_count": null,
   "metadata": {
    "collapsed": true,
    "jupyter": {
     "outputs_hidden": true
    }
   },
   "outputs": [],
   "source": [
    "y"
   ]
  },
  {
   "cell_type": "code",
   "execution_count": null,
   "metadata": {
    "collapsed": true,
    "jupyter": {
     "outputs_hidden": true
    }
   },
   "outputs": [],
   "source": []
  }
 ],
 "metadata": {
  "kernelspec": {
   "display_name": "C++14",
   "language": "C++14",
   "name": "xcpp14"
  },
  "language_info": {
   "codemirror_mode": "text/x-c++src",
   "file_extension": ".cpp",
   "mimetype": "text/x-c++src",
   "name": "c++",
   "version": "14"
  }
 },
 "nbformat": 4,
 "nbformat_minor": 4
}
